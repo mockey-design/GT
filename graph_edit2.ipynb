{
 "cells": [
  {
   "cell_type": "code",
   "execution_count": null,
   "id": "7bd13319",
   "metadata": {},
   "outputs": [],
   "source": [
    "\n",
    "import numpy as np\n",
    "import os\n",
    "import matplotlib.pyplot as plt\n",
    "import matplotlib.cm as cm\n",
    "import pandas as pd\n",
    "from matplotlib.ticker import AutoMinorLocator\n"
   ]
  },
  {
   "cell_type": "code",
   "execution_count": null,
   "id": "d32bf429",
   "metadata": {},
   "outputs": [],
   "source": [
    "\n",
    "def process_data(path):\n",
    "    df = pd.read_csv(path)\n",
    "    sensor_pairs = [['Sensor Data 1','Sensor Data 10'],['Sensor Data 11','Sensor Data 20'],\n",
    "                    ['Sensor Data 21','Sensor Data 30'],['Sensor Data 31','Sensor Data 40'],['Sensor Data 41','Sensor Data 50']]\n",
    "   \n",
    "    for first_col, second_col in sensor_pairs:\n",
    "        temp = df[first_col].copy()\n",
    "        df[first_col] = df[second_col]\n",
    "        df[second_col] = temp\n",
    "    \n",
    "    new_df = df.drop(['Sensor Data 31','Sensor Data 32','Sensor Data 41','Sensor Data 42'], axis=1)\n",
    "    \n",
    "    sensor_columns = new_df.columns[6:]\n",
    "    new_column_names = {sensor_columns[i]: f'Sensor Data {i+1}' for i in range(5, len(sensor_columns))}\n",
    "\n",
    "    final_df = new_df.rename(columns=new_column_names)\n",
    "    \n",
    "    return final_df\n"
   ]
  },
  {
   "cell_type": "code",
   "execution_count": null,
   "id": "1fd8b5d7",
   "metadata": {},
   "outputs": [],
   "source": [
    "\n",
    "def plot_data(df, save_path):\n",
    "    fig, axes = plt.subplots(2, 3, figsize=(39, 21))\n",
    "    sensor_data = [[f\"Sensor Data {i}\" for i in range(1, 11)],\n",
    "                   [f\"Sensor Data {i}\" for i in range(11, 21)],\n",
    "                   [f\"Sensor Data {i}\" for i in range(21, 31)],\n",
    "                   [f\"Sensor Data {i}\" for i in range(31, 38)],\n",
    "                   [f\"Sensor Data {i}\" for i in range(39, 47)]]\n",
    "\n",
    "    plt.subplots_adjust(hspace=0.5, wspace=0.5)\n",
    "    fig.suptitle(\"Sensor Data Visualization\")\n",
    "\n",
    "    for i, sensor_range in enumerate(sensor_data):\n",
    "        ax = axes[i // 3, i % 3]\n",
    "        for j, sensor_name in enumerate(sensor_range):\n",
    "            ax.plot(df[sensor_name], label=sensor_name, color=cm.jet(j * 10 / 100))\n",
    "            ax.set_title(f'Sensor Data {sensor_range[0]} - {sensor_range[-1]}')\n",
    "            ax.legend(loc='upper left', bbox_to_anchor=(1, 1))\n",
    "            ax.grid(True)\n",
    "            ax.minorticks_on()\n",
    "            ax.xaxis.set_minor_locator(AutoMinorLocator(10))\n",
    "            ax.yaxis.set_minor_locator(AutoMinorLocator(10))\n",
    "            ax.grid(True, which='both', linestyle='--', color='grey', alpha=0.5)\n",
    "    axes[-1, -1].axis('off')\n",
    "    plt.tight_layout(rect=[0, 0, 0.85, 1])\n",
    "    \n",
    "    # Optimized: Save once after loop completion\n",
    "    plt.savefig(save_path, dpi=300)  # Reduced DPI for faster rendering and smaller file size\n",
    "    print(f'Saved \"{save_path}\" successfully')\n"
   ]
  },
  {
   "cell_type": "code",
   "execution_count": null,
   "id": "625d57c1",
   "metadata": {},
   "outputs": [],
   "source": [
    "\n",
    "# Example usage (These lines will need to be adjusted based on the actual data and path)\n",
    "\n",
    "file_path = 'path_to_your_data.csv'  \n",
    "processed_df = process_data(file_path)\n",
    "save_path = 'path_to_save_graph/sensor_plot.png' \n",
    "plot_data(processed_df, save_path)\n"
   ]
  }
 ],
 "metadata": {
  "language_info": {
   "name": "python"
  }
 },
 "nbformat": 4,
 "nbformat_minor": 5
}
